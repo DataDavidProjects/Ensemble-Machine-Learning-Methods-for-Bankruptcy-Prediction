{
 "cells": [
  {
   "cell_type": "code",
   "execution_count": 2,
   "id": "prescribed-notebook",
   "metadata": {},
   "outputs": [],
   "source": [
    "import pandas as pd \n",
    "import numpy as np \n",
    "import matplotlib.pyplot as plt\n",
    "import seaborn as sns\n",
    "import scipy.stats  as stats\n",
    "\n",
    "import sklearn\n",
    "from sklearn.pipeline import Pipeline\n",
    "from sklearn.ensemble import GradientBoostingClassifier\n",
    "from xgboost.sklearn import XGBClassifier\n",
    "from sklearn.impute import KNNImputer\n",
    "from sklearn.model_selection import StratifiedKFold , RandomizedSearchCV , train_test_split \n",
    "from sklearn.metrics import confusion_matrix, accuracy_score, classification_report, f1_score, precision_score, recall_score ,roc_auc_score,average_precision_score,roc_curve,auc"
   ]
  },
  {
   "cell_type": "code",
   "execution_count": 3,
   "id": "welcome-horizon",
   "metadata": {},
   "outputs": [
    {
     "name": "stdout",
     "output_type": "stream",
     "text": [
      "(5910, 65)\n"
     ]
    },
    {
     "data": {
      "text/plain": [
       "0    5500\n",
       "1     410\n",
       "Name: class, dtype: int64"
      ]
     },
     "execution_count": 3,
     "metadata": {},
     "output_type": "execute_result"
    }
   ],
   "source": [
    "df = pd.read_csv('Datasets/Bankrupt_in_1year.csv',na_values=['?'])\n",
    "print(df.shape)\n",
    "\n",
    "\n",
    "df['class'].value_counts()"
   ]
  },
  {
   "cell_type": "code",
   "execution_count": 4,
   "id": "imposed-reunion",
   "metadata": {},
   "outputs": [],
   "source": [
    "def data_cleaning(df):\n",
    "    # Drop columns with missing rate > n\n",
    "    n = 0.3\n",
    "    missing  = df.isna().sum().sort_values(ascending = False ) / df.shape[0] \n",
    "    imputable_columns = missing[missing < n].keys()\n",
    "    df = df.loc[:,imputable_columns]\n",
    "    \n",
    "    return df\n",
    "    \n",
    "def data_preprocessing(df , holdoutratio = 0.01):\n",
    "    # Create Train fold  and hide Test fold\n",
    "    test_sample_class = int(df.shape[0] * holdoutratio)\n",
    "\n",
    "    df_dropNA = df.dropna() #Drop Nan\n",
    "    Test_Operating  = df_dropNA[df_dropNA['class'] == 0].sample(n=test_sample_class)\n",
    "    Test_Default    = df_dropNA[df_dropNA['class'] == 1].sample(n=int(test_sample_class/2))\n",
    "\n",
    "\n",
    "    Test = pd.concat([Test_Default,Test_Operating] , 0) # Create the Hide pure Test Data\n",
    "\n",
    "    Train = df.loc[~df.index.isin(Test.index), :] # Remove the index of Test and create the Train Block from original df\n",
    "\n",
    "    Test.sample(frac=1) # Shuffle randomly the Test Block\n",
    "\n",
    "    return Train , Test\n",
    "\n",
    "def balanced_sample_traning(df,target = 'class'):\n",
    "    target = 'class'\n",
    "\n",
    "    min_sample_size = df[target].value_counts().min()\n",
    "    positive = df[df[target] == 1].sample(n = min_sample_size)\n",
    "    negative = df[df[target] == 0].sample(n = min_sample_size)\n",
    "\n",
    "\n",
    "    Train = pd.concat([positive,negative] , 0).sample(frac=1)\n",
    "\n",
    "    return Train\n",
    "    \n",
    "def Model_Pipeline(df,target = 'class',n_iter = 50,scoring = 'f1',n_splits = 3):\n",
    "    # Split Predictor and Response\n",
    "    X  = df.drop('class',1)\n",
    "    y  = df['class']\n",
    "    #Initialize Functions for Pipeline\n",
    "    Clf = XGBClassifier(objective  = 'binary:logistic')\n",
    "    Kf  = StratifiedKFold(n_splits=n_splits,shuffle=True)\n",
    "    Imp = KNNImputer()\n",
    "    #Grid of possible combinations of parameters\n",
    "    param_dist = {\n",
    "                  # Imputation params\n",
    "                  \"Imputation__n_neighbors\" : [1,3,5],\n",
    "                  # CLF params\n",
    "                  \"Clf__scale_pos_weight \"   : [1, 3, 100] ,\n",
    "                  \"Clf__learning_rate\"      : [0.01, 0.1, 0.3] ,\n",
    "                  \"Clf__max_depth\"          : [ 3, 5, 6],\n",
    "                  'Clf__n_estimators'       : [300,800,1000],\n",
    "                  \"Clf__gamma\"              : [ 0.0, 0.1, 0.2],\n",
    "                  \"Clf__colsample_bytree\"   : [ 0.5,0.7,1 ] \n",
    "    }\n",
    "    # Pipeline Initialization\n",
    "    pipeline = Pipeline([\n",
    "                         ('Imputation',Imp),\n",
    "                         ('Clf', Clf)\n",
    "                        ])\n",
    "    # Fit  model and validate model \n",
    "    GridS = RandomizedSearchCV(pipeline, \n",
    "                               param_distributions = param_dist,\n",
    "                               cv = Kf,  \n",
    "                               n_iter = n_iter,\n",
    "                               scoring = scoring, \n",
    "                               error_score = 0, \n",
    "                               verbose = 0, \n",
    "                               n_jobs = -1)\n",
    "    GridS.fit(X, y)\n",
    "    return GridS , GridS.best_estimator_['Clf']\n",
    "    \n",
    "\n",
    "def Bankruptcy_Pipe(df):\n",
    "    \n",
    "    return "
   ]
  },
  {
   "cell_type": "code",
   "execution_count": 5,
   "id": "proved-spouse",
   "metadata": {},
   "outputs": [
    {
     "name": "stdout",
     "output_type": "stream",
     "text": [
      "[15:42:22] WARNING: C:/Users/Administrator/workspace/xgboost-win64_release_1.3.0/src/learner.cc:541: \n",
      "Parameters: { scale_pos_weight  } might not be used.\n",
      "\n",
      "  This may not be accurate due to some parameters are only used in language bindings but\n",
      "  passed down to XGBoost core.  Or some parameters are not used but slip through this\n",
      "  verification. Please open an issue if you find above cases.\n",
      "\n",
      "\n",
      "[15:42:22] WARNING: C:/Users/Administrator/workspace/xgboost-win64_release_1.3.0/src/learner.cc:1061: Starting in XGBoost 1.3.0, the default evaluation metric used with the objective 'binary:logistic' was changed from 'error' to 'logloss'. Explicitly set eval_metric if you'd like to restore the old behavior.\n"
     ]
    }
   ],
   "source": [
    "import time\n",
    "import warnings\n",
    "warnings.filterwarnings('ignore')\n",
    "\n",
    "t0 = time.time()\n",
    "df = data_cleaning(df)\n",
    "train , holdout = data_preprocessing(df)\n",
    "train = balanced_sample_traning(train)\n",
    "GridS , bestclf = Model_Pipeline(df = train)\n",
    "\n",
    "t1 = time.time()\n",
    "\n",
    "exec_time = t1 - t0"
   ]
  },
  {
   "cell_type": "code",
   "execution_count": 6,
   "id": "provincial-harbor",
   "metadata": {},
   "outputs": [
    {
     "name": "stdout",
     "output_type": "stream",
     "text": [
      "Exec_time: Minutes 1.3715044776598613\n"
     ]
    },
    {
     "data": {
      "text/html": [
       "<div>\n",
       "<style scoped>\n",
       "    .dataframe tbody tr th:only-of-type {\n",
       "        vertical-align: middle;\n",
       "    }\n",
       "\n",
       "    .dataframe tbody tr th {\n",
       "        vertical-align: top;\n",
       "    }\n",
       "\n",
       "    .dataframe thead th {\n",
       "        text-align: right;\n",
       "    }\n",
       "</style>\n",
       "<table border=\"1\" class=\"dataframe\">\n",
       "  <thead>\n",
       "    <tr style=\"text-align: right;\">\n",
       "      <th></th>\n",
       "      <th>mean_test_score</th>\n",
       "      <th>std_test_score</th>\n",
       "    </tr>\n",
       "  </thead>\n",
       "  <tbody>\n",
       "    <tr>\n",
       "      <th>12</th>\n",
       "      <td>0.828821</td>\n",
       "      <td>0.021615</td>\n",
       "    </tr>\n",
       "    <tr>\n",
       "      <th>22</th>\n",
       "      <td>0.826310</td>\n",
       "      <td>0.024308</td>\n",
       "    </tr>\n",
       "    <tr>\n",
       "      <th>25</th>\n",
       "      <td>0.824067</td>\n",
       "      <td>0.033082</td>\n",
       "    </tr>\n",
       "    <tr>\n",
       "      <th>33</th>\n",
       "      <td>0.822129</td>\n",
       "      <td>0.035723</td>\n",
       "    </tr>\n",
       "    <tr>\n",
       "      <th>31</th>\n",
       "      <td>0.821983</td>\n",
       "      <td>0.028323</td>\n",
       "    </tr>\n",
       "    <tr>\n",
       "      <th>40</th>\n",
       "      <td>0.820950</td>\n",
       "      <td>0.004396</td>\n",
       "    </tr>\n",
       "    <tr>\n",
       "      <th>9</th>\n",
       "      <td>0.820175</td>\n",
       "      <td>0.022388</td>\n",
       "    </tr>\n",
       "    <tr>\n",
       "      <th>42</th>\n",
       "      <td>0.817772</td>\n",
       "      <td>0.010670</td>\n",
       "    </tr>\n",
       "    <tr>\n",
       "      <th>14</th>\n",
       "      <td>0.817359</td>\n",
       "      <td>0.018124</td>\n",
       "    </tr>\n",
       "    <tr>\n",
       "      <th>34</th>\n",
       "      <td>0.816270</td>\n",
       "      <td>0.017413</td>\n",
       "    </tr>\n",
       "    <tr>\n",
       "      <th>24</th>\n",
       "      <td>0.815780</td>\n",
       "      <td>0.016653</td>\n",
       "    </tr>\n",
       "    <tr>\n",
       "      <th>37</th>\n",
       "      <td>0.815754</td>\n",
       "      <td>0.009427</td>\n",
       "    </tr>\n",
       "    <tr>\n",
       "      <th>47</th>\n",
       "      <td>0.815713</td>\n",
       "      <td>0.010329</td>\n",
       "    </tr>\n",
       "    <tr>\n",
       "      <th>7</th>\n",
       "      <td>0.815089</td>\n",
       "      <td>0.011966</td>\n",
       "    </tr>\n",
       "    <tr>\n",
       "      <th>1</th>\n",
       "      <td>0.814679</td>\n",
       "      <td>0.012805</td>\n",
       "    </tr>\n",
       "    <tr>\n",
       "      <th>23</th>\n",
       "      <td>0.813811</td>\n",
       "      <td>0.016269</td>\n",
       "    </tr>\n",
       "    <tr>\n",
       "      <th>46</th>\n",
       "      <td>0.813710</td>\n",
       "      <td>0.023124</td>\n",
       "    </tr>\n",
       "    <tr>\n",
       "      <th>13</th>\n",
       "      <td>0.813497</td>\n",
       "      <td>0.015261</td>\n",
       "    </tr>\n",
       "    <tr>\n",
       "      <th>35</th>\n",
       "      <td>0.813207</td>\n",
       "      <td>0.025387</td>\n",
       "    </tr>\n",
       "    <tr>\n",
       "      <th>19</th>\n",
       "      <td>0.813040</td>\n",
       "      <td>0.013286</td>\n",
       "    </tr>\n",
       "    <tr>\n",
       "      <th>28</th>\n",
       "      <td>0.812926</td>\n",
       "      <td>0.023126</td>\n",
       "    </tr>\n",
       "    <tr>\n",
       "      <th>5</th>\n",
       "      <td>0.811808</td>\n",
       "      <td>0.016248</td>\n",
       "    </tr>\n",
       "    <tr>\n",
       "      <th>44</th>\n",
       "      <td>0.811423</td>\n",
       "      <td>0.015886</td>\n",
       "    </tr>\n",
       "    <tr>\n",
       "      <th>0</th>\n",
       "      <td>0.811227</td>\n",
       "      <td>0.016310</td>\n",
       "    </tr>\n",
       "    <tr>\n",
       "      <th>6</th>\n",
       "      <td>0.810890</td>\n",
       "      <td>0.019025</td>\n",
       "    </tr>\n",
       "    <tr>\n",
       "      <th>2</th>\n",
       "      <td>0.809824</td>\n",
       "      <td>0.029906</td>\n",
       "    </tr>\n",
       "    <tr>\n",
       "      <th>3</th>\n",
       "      <td>0.809794</td>\n",
       "      <td>0.018168</td>\n",
       "    </tr>\n",
       "    <tr>\n",
       "      <th>17</th>\n",
       "      <td>0.807763</td>\n",
       "      <td>0.023960</td>\n",
       "    </tr>\n",
       "    <tr>\n",
       "      <th>36</th>\n",
       "      <td>0.807626</td>\n",
       "      <td>0.015187</td>\n",
       "    </tr>\n",
       "    <tr>\n",
       "      <th>10</th>\n",
       "      <td>0.807626</td>\n",
       "      <td>0.015187</td>\n",
       "    </tr>\n",
       "    <tr>\n",
       "      <th>43</th>\n",
       "      <td>0.804926</td>\n",
       "      <td>0.009990</td>\n",
       "    </tr>\n",
       "    <tr>\n",
       "      <th>45</th>\n",
       "      <td>0.804860</td>\n",
       "      <td>0.012949</td>\n",
       "    </tr>\n",
       "    <tr>\n",
       "      <th>27</th>\n",
       "      <td>0.804578</td>\n",
       "      <td>0.012439</td>\n",
       "    </tr>\n",
       "    <tr>\n",
       "      <th>38</th>\n",
       "      <td>0.803789</td>\n",
       "      <td>0.007203</td>\n",
       "    </tr>\n",
       "    <tr>\n",
       "      <th>16</th>\n",
       "      <td>0.803527</td>\n",
       "      <td>0.017314</td>\n",
       "    </tr>\n",
       "    <tr>\n",
       "      <th>8</th>\n",
       "      <td>0.802772</td>\n",
       "      <td>0.004622</td>\n",
       "    </tr>\n",
       "    <tr>\n",
       "      <th>41</th>\n",
       "      <td>0.801761</td>\n",
       "      <td>0.010316</td>\n",
       "    </tr>\n",
       "    <tr>\n",
       "      <th>15</th>\n",
       "      <td>0.801734</td>\n",
       "      <td>0.008621</td>\n",
       "    </tr>\n",
       "    <tr>\n",
       "      <th>20</th>\n",
       "      <td>0.801730</td>\n",
       "      <td>0.011413</td>\n",
       "    </tr>\n",
       "    <tr>\n",
       "      <th>26</th>\n",
       "      <td>0.801585</td>\n",
       "      <td>0.028064</td>\n",
       "    </tr>\n",
       "    <tr>\n",
       "      <th>18</th>\n",
       "      <td>0.801552</td>\n",
       "      <td>0.004635</td>\n",
       "    </tr>\n",
       "    <tr>\n",
       "      <th>21</th>\n",
       "      <td>0.801552</td>\n",
       "      <td>0.004635</td>\n",
       "    </tr>\n",
       "    <tr>\n",
       "      <th>11</th>\n",
       "      <td>0.801377</td>\n",
       "      <td>0.022814</td>\n",
       "    </tr>\n",
       "    <tr>\n",
       "      <th>30</th>\n",
       "      <td>0.798157</td>\n",
       "      <td>0.022680</td>\n",
       "    </tr>\n",
       "    <tr>\n",
       "      <th>48</th>\n",
       "      <td>0.797392</td>\n",
       "      <td>0.011441</td>\n",
       "    </tr>\n",
       "    <tr>\n",
       "      <th>32</th>\n",
       "      <td>0.794132</td>\n",
       "      <td>0.010701</td>\n",
       "    </tr>\n",
       "    <tr>\n",
       "      <th>29</th>\n",
       "      <td>0.786000</td>\n",
       "      <td>0.004583</td>\n",
       "    </tr>\n",
       "    <tr>\n",
       "      <th>39</th>\n",
       "      <td>0.785448</td>\n",
       "      <td>0.022847</td>\n",
       "    </tr>\n",
       "    <tr>\n",
       "      <th>4</th>\n",
       "      <td>0.785380</td>\n",
       "      <td>0.006938</td>\n",
       "    </tr>\n",
       "    <tr>\n",
       "      <th>49</th>\n",
       "      <td>0.777452</td>\n",
       "      <td>0.009017</td>\n",
       "    </tr>\n",
       "  </tbody>\n",
       "</table>\n",
       "</div>"
      ],
      "text/plain": [
       "    mean_test_score  std_test_score\n",
       "12         0.828821        0.021615\n",
       "22         0.826310        0.024308\n",
       "25         0.824067        0.033082\n",
       "33         0.822129        0.035723\n",
       "31         0.821983        0.028323\n",
       "40         0.820950        0.004396\n",
       "9          0.820175        0.022388\n",
       "42         0.817772        0.010670\n",
       "14         0.817359        0.018124\n",
       "34         0.816270        0.017413\n",
       "24         0.815780        0.016653\n",
       "37         0.815754        0.009427\n",
       "47         0.815713        0.010329\n",
       "7          0.815089        0.011966\n",
       "1          0.814679        0.012805\n",
       "23         0.813811        0.016269\n",
       "46         0.813710        0.023124\n",
       "13         0.813497        0.015261\n",
       "35         0.813207        0.025387\n",
       "19         0.813040        0.013286\n",
       "28         0.812926        0.023126\n",
       "5          0.811808        0.016248\n",
       "44         0.811423        0.015886\n",
       "0          0.811227        0.016310\n",
       "6          0.810890        0.019025\n",
       "2          0.809824        0.029906\n",
       "3          0.809794        0.018168\n",
       "17         0.807763        0.023960\n",
       "36         0.807626        0.015187\n",
       "10         0.807626        0.015187\n",
       "43         0.804926        0.009990\n",
       "45         0.804860        0.012949\n",
       "27         0.804578        0.012439\n",
       "38         0.803789        0.007203\n",
       "16         0.803527        0.017314\n",
       "8          0.802772        0.004622\n",
       "41         0.801761        0.010316\n",
       "15         0.801734        0.008621\n",
       "20         0.801730        0.011413\n",
       "26         0.801585        0.028064\n",
       "18         0.801552        0.004635\n",
       "21         0.801552        0.004635\n",
       "11         0.801377        0.022814\n",
       "30         0.798157        0.022680\n",
       "48         0.797392        0.011441\n",
       "32         0.794132        0.010701\n",
       "29         0.786000        0.004583\n",
       "39         0.785448        0.022847\n",
       "4          0.785380        0.006938\n",
       "49         0.777452        0.009017"
      ]
     },
     "execution_count": 6,
     "metadata": {},
     "output_type": "execute_result"
    }
   ],
   "source": [
    "print('Exec_time: Minutes',exec_time/60)\n",
    "results = pd.DataFrame(GridS.cv_results_).sort_values('rank_test_score',ascending = True)[['mean_test_score','std_test_score']]\n",
    "results"
   ]
  },
  {
   "cell_type": "code",
   "execution_count": 7,
   "id": "martial-glass",
   "metadata": {},
   "outputs": [
    {
     "data": {
      "text/plain": [
       "Attr35    0.167004\n",
       "Attr27    0.047199\n",
       "Attr38    0.032606\n",
       "Attr16    0.027961\n",
       "Attr25    0.025042\n",
       "Attr21    0.024983\n",
       "Attr39    0.024474\n",
       "Attr43    0.023663\n",
       "Attr46    0.022918\n",
       "Attr36    0.019369\n",
       "dtype: float32"
      ]
     },
     "execution_count": 7,
     "metadata": {},
     "output_type": "execute_result"
    }
   ],
   "source": [
    "predictors = train.drop('class',1).columns\n",
    "feature_importances = pd.Series(data  = GridS.best_estimator_['Clf'].feature_importances_ , index = predictors)\n",
    "feature_importances.sort_values(ascending = False)[:10]"
   ]
  },
  {
   "cell_type": "code",
   "execution_count": 8,
   "id": "verified-mountain",
   "metadata": {},
   "outputs": [
    {
     "data": {
      "text/plain": [
       "XGBClassifier(base_score=0.5, booster='gbtree', colsample_bylevel=1,\n",
       "              colsample_bynode=1, colsample_bytree=0.7, gamma=0.0, gpu_id=-1,\n",
       "              importance_type='gain', interaction_constraints='',\n",
       "              learning_rate=0.1, max_delta_step=0, max_depth=3,\n",
       "              min_child_weight=1, missing=nan, monotone_constraints='()',\n",
       "              n_estimators=300, n_jobs=8, num_parallel_tree=1, random_state=0,\n",
       "              reg_alpha=0, reg_lambda=1, scale_pos_weight=1,\n",
       "              scale_pos_weight =100, subsample=1, tree_method='exact',\n",
       "              validate_parameters=1, verbosity=None)"
      ]
     },
     "execution_count": 8,
     "metadata": {},
     "output_type": "execute_result"
    }
   ],
   "source": [
    "GridS.best_estimator_['Clf']"
   ]
  },
  {
   "cell_type": "code",
   "execution_count": 9,
   "id": "loved-compensation",
   "metadata": {},
   "outputs": [
    {
     "data": {
      "text/plain": [
       "0.7636363636363636"
      ]
     },
     "execution_count": 9,
     "metadata": {},
     "output_type": "execute_result"
    }
   ],
   "source": [
    "# Unless the confidence of solid business is over 60, declare risk \n",
    "predictions  = (bestclf.predict_proba(holdout.drop('class',1).values)[:,1] >= 0.45).astype(int)\n",
    "\n",
    "f1_score(holdout['class'] , predictions)"
   ]
  },
  {
   "cell_type": "code",
   "execution_count": 10,
   "id": "demographic-montreal",
   "metadata": {},
   "outputs": [
    {
     "data": {
      "text/plain": [
       "0    381\n",
       "1    381\n",
       "Name: class, dtype: int64"
      ]
     },
     "execution_count": 10,
     "metadata": {},
     "output_type": "execute_result"
    }
   ],
   "source": [
    "train['class'].value_counts()"
   ]
  },
  {
   "cell_type": "code",
   "execution_count": 11,
   "id": "flexible-pattern",
   "metadata": {},
   "outputs": [
    {
     "name": "stdout",
     "output_type": "stream",
     "text": [
      "              precision    recall  f1-score   support\n",
      "\n",
      "           0       0.87      0.92      0.89        59\n",
      "           1       0.81      0.72      0.76        29\n",
      "\n",
      "    accuracy                           0.85        88\n",
      "   macro avg       0.84      0.82      0.83        88\n",
      "weighted avg       0.85      0.85      0.85        88\n",
      "\n"
     ]
    },
    {
     "data": {
      "image/png": "[encoded data removed]",
      "text/plain": [
       "<Figure size 432x288 with 2 Axes>"
      ]
     },
     "metadata": {
      "needs_background": "light"
     },
     "output_type": "display_data"
    }
   ],
   "source": [
    "sns.heatmap(confusion_matrix( holdout['class'], predictions) , cmap  = 'Blues', annot = True )\n",
    "plt.title('Confusion Matrix')\n",
    "plt.ylabel('True label')\n",
    "plt.xlabel('Predicted label');\n",
    "print(classification_report( holdout['class'], predictions))"
   ]
  },
  {
   "cell_type": "markdown",
   "id": "controlled-findings",
   "metadata": {},
   "source": [
    "# Unsupervised Bankruptcy Prediction with AutoEncoders"
   ]
  },
  {
   "cell_type": "code",
   "execution_count": 28,
   "id": "functioning-music",
   "metadata": {},
   "outputs": [
    {
     "data": {
      "text/plain": [
       "(0    2910\n",
       " 1     331\n",
       " Name: class, dtype: int64,\n",
       " 0    2000\n",
       " 1      50\n",
       " Name: class, dtype: int64)"
      ]
     },
     "execution_count": 28,
     "metadata": {},
     "output_type": "execute_result"
    }
   ],
   "source": [
    "df = data_cleaning(df)\n",
    "\n",
    "train , holdout  = data_preprocessing(df)\n",
    "\n",
    "\n",
    "def data_preprocessing_autoencoder(df , holdoutratio = 0.01):\n",
    "    # Create Train fold  and hide Test fold\n",
    "    test_sample_class = int(df.shape[0] * holdoutratio)\n",
    "\n",
    "    df_dropNA = df.dropna() #Drop Nan\n",
    "    Test_Operating  = df_dropNA[df_dropNA['class'] == 0].sample(n=2000)\n",
    "    Test_Default    = df_dropNA[df_dropNA['class'] == 1].sample(n=50)\n",
    "\n",
    "\n",
    "    Test = pd.concat([Test_Default,Test_Operating] , 0) # Create the Hide pure Test Data\n",
    "\n",
    "    Train = df.loc[~df.index.isin(Test.index), :] # Remove the index of Test and create the Train Block from original df\n",
    "\n",
    "    Test.sample(frac=1) # Shuffle randomly the Test Block\n",
    "\n",
    "    return Train , Test\n",
    "\n",
    "train , validate = data_preprocessing_autoencoder(train)\n",
    "\n",
    "train['class'].value_counts() ,validate['class'].value_counts()"
   ]
  },
  {
   "cell_type": "code",
   "execution_count": 49,
   "id": "automated-corps",
   "metadata": {},
   "outputs": [
    {
     "name": "stdout",
     "output_type": "stream",
     "text": [
      "Model: \"sequential_4\"\n",
      "_________________________________________________________________\n",
      "Layer (type)                 Output Shape              Param #   \n",
      "=================================================================\n",
      "dense_36 (Dense)             (None, 63)                4032      \n",
      "_________________________________________________________________\n",
      "dense_37 (Dense)             (None, 16)                1024      \n",
      "_________________________________________________________________\n",
      "dense_38 (Dense)             (None, 8)                 136       \n",
      "_________________________________________________________________\n",
      "dense_39 (Dense)             (None, 4)                 36        \n",
      "_________________________________________________________________\n",
      "dense_40 (Dense)             (None, 2)                 10        \n",
      "_________________________________________________________________\n",
      "dense_41 (Dense)             (None, 4)                 12        \n",
      "_________________________________________________________________\n",
      "dense_42 (Dense)             (None, 8)                 40        \n",
      "_________________________________________________________________\n",
      "dense_43 (Dense)             (None, 16)                144       \n",
      "_________________________________________________________________\n",
      "dense_44 (Dense)             (None, 63)                1071      \n",
      "=================================================================\n",
      "Total params: 6,505\n",
      "Trainable params: 6,505\n",
      "Non-trainable params: 0\n",
      "_________________________________________________________________\n"
     ]
    }
   ],
   "source": [
    "import tensorflow as tf\n",
    "from keras.layers import Input, Dense\n",
    "from keras.models import Model\n",
    "from sklearn.preprocessing import Normalizer, MinMaxScaler\n",
    "from sklearn.pipeline import Pipeline\n",
    "\n",
    "# configure our pipeline\n",
    "pipeline = Pipeline([\n",
    "                     ('Imputation',KNNImputer(n_neighbors=3)),\n",
    "                     ('normalizer', Normalizer()),\n",
    "                     ('scaler', MinMaxScaler())])\n",
    "\n",
    "\n",
    "\n",
    "X_train    = train.drop('class',1)\n",
    "X_validate = validate.drop('class',1)\n",
    "\n",
    "\n",
    "\n",
    "# transform the training and validation data with these parameters\n",
    "X_train_transformed = pipeline.fit_transform(X_train)\n",
    "X_validate_transformed = pipeline.fit_transform(X_validate)\n",
    "\n",
    "\n",
    "# data dimensions // hyperparameters \n",
    "input_dim = X_train_transformed.shape[1]\n",
    "BATCH_SIZE = 2**5\n",
    "EPOCHS = 100\n",
    "\n",
    "# https://keras.io/layers/core/\n",
    "autoencoder = tf.keras.models.Sequential([\n",
    "    \n",
    "    # deconstruct / encode\n",
    "    tf.keras.layers.Dense(input_dim, activation='elu', input_shape=(input_dim, )), \n",
    "    tf.keras.layers.Dense(16, activation='elu'),\n",
    "    tf.keras.layers.Dense(8, activation='elu'),\n",
    "    tf.keras.layers.Dense(4, activation='elu'),\n",
    "    tf.keras.layers.Dense(2, activation='elu'),\n",
    "    \n",
    "    # reconstruction / decode\n",
    "    tf.keras.layers.Dense(4, activation='elu'),\n",
    "    tf.keras.layers.Dense(8, activation='elu'),\n",
    "    tf.keras.layers.Dense(16, activation='elu'),\n",
    "    tf.keras.layers.Dense(input_dim, activation='elu')\n",
    "    \n",
    "])\n",
    "\n",
    "# https://keras.io/api/models/model_training_apis/\n",
    "autoencoder.compile(optimizer=\"adam\", \n",
    "                    loss=\"mse\",\n",
    "                    metrics=[\"mse\"])\n",
    "\n",
    "# print an overview of our model\n",
    "autoencoder.summary();\n",
    "\n",
    "\n",
    "# Train \n",
    "history = autoencoder.fit(\n",
    "    X_train_transformed, X_train_transformed,\n",
    "    shuffle=False,\n",
    "    verbose = False,\n",
    "    epochs=EPOCHS,\n",
    "    batch_size=BATCH_SIZE,\n",
    "    validation_data=(X_validate_transformed, X_validate_transformed)\n",
    ");"
   ]
  },
  {
   "cell_type": "code",
   "execution_count": 77,
   "id": "undefined-closure",
   "metadata": {},
   "outputs": [
    {
     "data": {
      "image/png": "[encoded data removed]",
      "text/plain": [
       "<Figure size 432x432 with 1 Axes>"
      ]
     },
     "metadata": {
      "needs_background": "light"
     },
     "output_type": "display_data"
    }
   ],
   "source": [
    "X_test    = holdout.drop('class',1)\n",
    "y_test    = holdout['class']\n",
    "\n",
    "X_test_transformed = pipeline.fit_transform(X_test)\n",
    "reconstructions = autoencoder.predict(X_test_transformed)\n",
    "\n",
    "mse = np.mean(np.power(X_test_transformed - reconstructions, 2), axis=1)\n",
    "\n",
    "clean  = mse[y_test==0]\n",
    "risky  = mse[y_test==1]\n",
    "\n",
    "fig, ax = plt.subplots(figsize=(6,6))\n",
    "\n",
    "ax.hist(clean, bins=10, density=True, label=\"clean\", alpha=.6, color=\"green\")\n",
    "ax.hist(fraud, bins=10, density=True, label=\"risky\", alpha=.6, color=\"red\")\n",
    "\n",
    "plt.title(\"(Normalized) Distribution of the Reconstruction Loss\")\n",
    "plt.legend()\n",
    "plt.show()"
   ]
  },
  {
   "cell_type": "code",
   "execution_count": 100,
   "id": "married-sending",
   "metadata": {},
   "outputs": [
    {
     "data": {
      "image/png": "[encoded data removed]",
      "text/plain": [
       "<Figure size 720x576 with 1 Axes>"
      ]
     },
     "metadata": {
      "needs_background": "light"
     },
     "output_type": "display_data"
    }
   ],
   "source": [
    "\n",
    "plt.grid(True)\n",
    "plt.scatter(x = range(len(clean)) ,  y = clean , color = 'green', alpha = 0.7  ,edgecolors = 'k' , label  = 'Clean' )\n",
    "plt.scatter(x = range(len(risky)) ,  y = risky , color = 'darkred', alpha = 0.7,edgecolors = 'k' , label  = 'Risky' )\n",
    "plt.legend()\n",
    "plt.title('Risk Factor in terms of reconstruction error')\n",
    "\n",
    "risk_cutoff = np.percentile(mse,80)\n",
    "plt.axhline(y=risk_cutoff, color='k', linestyle='--');"
   ]
  },
  {
   "cell_type": "code",
   "execution_count": 113,
   "id": "comparative-voltage",
   "metadata": {},
   "outputs": [
    {
     "data": {
      "text/plain": [
       "0.175"
      ]
     },
     "execution_count": 113,
     "metadata": {},
     "output_type": "execute_result"
    }
   ],
   "source": [
    "false_positive_rate = (clean[:] > risk_cutoff).astype(int).sum() / len(clean)\n",
    "round(false_positive_rate,3)"
   ]
  },
  {
   "cell_type": "code",
   "execution_count": 116,
   "id": "limiting-sleep",
   "metadata": {},
   "outputs": [
    {
     "data": {
      "text/plain": [
       "0.276"
      ]
     },
     "execution_count": 116,
     "metadata": {},
     "output_type": "execute_result"
    }
   ],
   "source": [
    "false_negative_rate = (risky[:] < risk_cutoff).astype(int).sum() / len(risky)\n",
    "round(false_negative_rate,3)"
   ]
  },
  {
   "cell_type": "code",
   "execution_count": 118,
   "id": "improved-psychology",
   "metadata": {},
   "outputs": [
    {
     "data": {
      "text/plain": [
       "0.825"
      ]
     },
     "execution_count": 118,
     "metadata": {},
     "output_type": "execute_result"
    }
   ],
   "source": [
    "true_negative_rate = (clean[:] < risk_cutoff).astype(int).sum() / len(clean)\n",
    "round(true_negative_rate,3)"
   ]
  },
  {
   "cell_type": "code",
   "execution_count": 119,
   "id": "rocky-local",
   "metadata": {},
   "outputs": [
    {
     "data": {
      "text/plain": [
       "0.724"
      ]
     },
     "execution_count": 119,
     "metadata": {},
     "output_type": "execute_result"
    }
   ],
   "source": [
    "true_positive_rate = (risky[:] > risk_cutoff).astype(int).sum() / len(risky)\n",
    "round(true_positive_rate,3)"
   ]
  },
  {
   "cell_type": "code",
   "execution_count": 129,
   "id": "fuzzy-indianapolis",
   "metadata": {},
   "outputs": [
    {
     "data": {
      "text/plain": [
       "(619, 590, 29)"
      ]
     },
     "execution_count": 129,
     "metadata": {},
     "output_type": "execute_result"
    }
   ],
   "source": [
    "len(y_test) , len(clean) , len(risky)"
   ]
  },
  {
   "cell_type": "code",
   "execution_count": 124,
   "id": "needed-bulgaria",
   "metadata": {},
   "outputs": [],
   "source": [
    "true_positive    =   (risky[:] > risk_cutoff).astype(int).sum()\n",
    "true_negative    =   (clean[:] < risk_cutoff).astype(int).sum()\n",
    "false_positive   =   (clean[:] > risk_cutoff).astype(int).sum()\n",
    "false_negative   =   (risky[:] < risk_cutoff).astype(int).sum()\n",
    "\n",
    "precision  =  true_positive / ( true_positive + false_positive)\n",
    "recall     =  true_positive / (true_positive + false_negative )\n",
    "\n",
    "f1         =  2 * (precision*recall)/(precision+recall)"
   ]
  },
  {
   "cell_type": "code",
   "execution_count": 128,
   "id": "editorial-representative",
   "metadata": {},
   "outputs": [
    {
     "data": {
      "text/plain": [
       "0.7241379310344828"
      ]
     },
     "execution_count": 128,
     "metadata": {},
     "output_type": "execute_result"
    }
   ],
   "source": [
    "recall"
   ]
  },
  {
   "cell_type": "code",
   "execution_count": 133,
   "id": "certain-given",
   "metadata": {},
   "outputs": [
    {
     "data": {
      "text/plain": [
       "21.0"
      ]
     },
     "execution_count": 133,
     "metadata": {},
     "output_type": "execute_result"
    }
   ],
   "source": [
    "true_positive_rate*29"
   ]
  },
  {
   "cell_type": "code",
   "execution_count": null,
   "id": "promotional-saying",
   "metadata": {},
   "outputs": [],
   "source": []
  }
 ],
 "metadata": {
  "kernelspec": {
   "display_name": "Python 3",
   "language": "python",
   "name": "python3"
  },
  "language_info": {
   "codemirror_mode": {
    "name": "ipython",
    "version": 3
   },
   "file_extension": ".py",
   "mimetype": "text/x-python",
   "name": "python",
   "nbconvert_exporter": "python",
   "pygments_lexer": "ipython3",
   "version": "3.8.5"
  }
 },
 "nbformat": 4,
 "nbformat_minor": 5
}
