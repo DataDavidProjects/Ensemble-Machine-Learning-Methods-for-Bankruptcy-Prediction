{
 "cells": [
  {
   "cell_type": "code",
   "execution_count": 1,
   "id": "regular-village",
   "metadata": {},
   "outputs": [],
   "source": [
    "import pandas as pd \n",
    "import numpy as np \n",
    "import matplotlib.pyplot as plt\n",
    "import seaborn as sns\n",
    "import scipy.stats  as stats\n",
    "\n",
    "import sklearn\n",
    "from sklearn.pipeline import Pipeline\n",
    "from sklearn.ensemble import GradientBoostingClassifier\n",
    "from xgboost.sklearn import XGBClassifier\n",
    "from sklearn.impute import KNNImputer\n",
    "from sklearn.model_selection import StratifiedKFold , RandomizedSearchCV , train_test_split \n",
    "from sklearn.metrics import confusion_matrix, accuracy_score, classification_report, f1_score, precision_score, recall_score ,roc_auc_score,average_precision_score,roc_curve,auc"
   ]
  },
  {
   "cell_type": "code",
   "execution_count": 2,
   "id": "honest-shape",
   "metadata": {},
   "outputs": [
    {
     "name": "stdout",
     "output_type": "stream",
     "text": [
      "(5910, 65)\n"
     ]
    },
    {
     "data": {
      "text/plain": [
       "0    5500\n",
       "1     410\n",
       "Name: class, dtype: int64"
      ]
     },
     "execution_count": 2,
     "metadata": {},
     "output_type": "execute_result"
    }
   ],
   "source": [
    "df = pd.read_csv('Datasets/Bankrupt_in_1year.csv',na_values=['?'])\n",
    "print(df.shape)\n",
    "\n",
    "\n",
    "df['class'].value_counts()"
   ]
  },
  {
   "cell_type": "code",
   "execution_count": 3,
   "id": "structural-indian",
   "metadata": {},
   "outputs": [],
   "source": [
    "def data_cleaning(df):\n",
    "    # Drop columns with missing rate > n\n",
    "    n = 0.3\n",
    "    missing  = df.isna().sum().sort_values(ascending = False ) / df.shape[0] \n",
    "    imputable_columns = missing[missing < n].keys()\n",
    "    df = df.loc[:,imputable_columns]\n",
    "    \n",
    "    return df\n",
    "    \n",
    "def data_preprocessing(df , holdoutratio = 0.01):\n",
    "    # Create Train fold  and hide Test fold\n",
    "    test_sample_class = int(df.shape[0] * holdoutratio)\n",
    "\n",
    "    df_dropNA = df.dropna() #Drop Nan\n",
    "    Test_Operating  = df_dropNA[df_dropNA['class'] == 0].sample(n=test_sample_class)\n",
    "    Test_Default    = df_dropNA[df_dropNA['class'] == 1].sample(n=int(test_sample_class/2))\n",
    "\n",
    "\n",
    "    Test = pd.concat([Test_Default,Test_Operating] , 0) # Create the Hide pure Test Data\n",
    "\n",
    "    Train = df.loc[~df.index.isin(Test.index), :] # Remove the index of Test and create the Train Block from original df\n",
    "\n",
    "    Test.sample(frac=1) # Shuffle randomly the Test Block\n",
    "\n",
    "    return Train , Test\n",
    "\n",
    "def balanced_sample_traning(df,target = 'class'):\n",
    "    target = 'class'\n",
    "\n",
    "    min_sample_size = df[target].value_counts().min()\n",
    "    positive = df[df[target] == 1].sample(n = min_sample_size)\n",
    "    negative = df[df[target] == 0].sample(n = min_sample_size)\n",
    "\n",
    "\n",
    "    Train = pd.concat([positive,negative] , 0).sample(frac=1)\n",
    "\n",
    "    return Train\n",
    "    \n",
    "def Model_Pipeline(df,target = 'class',n_iter = 50,scoring = 'f1',n_splits = 3):\n",
    "    # Split Predictor and Response\n",
    "    X  = df.drop('class',1)\n",
    "    y  = df['class']\n",
    "    #Initialize Functions for Pipeline\n",
    "    Clf = XGBClassifier(objective  = 'binary:logistic')\n",
    "    Kf  = StratifiedKFold(n_splits=n_splits,shuffle=True)\n",
    "    Imp = KNNImputer()\n",
    "    #Grid of possible combinations of parameters\n",
    "    param_dist = {\n",
    "                  # Imputation params\n",
    "                  \"Imputation__n_neighbors\" : [1,3,5],\n",
    "                  # CLF params\n",
    "                  \"Clf__scale_pos_weight \"   : [1, 3, 100] ,\n",
    "                  \"Clf__learning_rate\"      : [0.01, 0.1, 0.3] ,\n",
    "                  \"Clf__max_depth\"          : [ 3, 5, 6],\n",
    "                  'Clf__n_estimators'       : [300,800,1000],\n",
    "                  \"Clf__gamma\"              : [ 0.0, 0.1, 0.2],\n",
    "                  \"Clf__colsample_bytree\"   : [ 0.5,0.7,1 ] \n",
    "    }\n",
    "    # Pipeline Initialization\n",
    "    pipeline = Pipeline([\n",
    "                         ('Imputation',Imp),\n",
    "                         ('Clf', Clf)\n",
    "                        ])\n",
    "    # Fit  model and validate model \n",
    "    GridS = RandomizedSearchCV(pipeline, \n",
    "                               param_distributions = param_dist,\n",
    "                               cv = Kf,  \n",
    "                               n_iter = n_iter,\n",
    "                               scoring = scoring, \n",
    "                               error_score = 0, \n",
    "                               verbose = 0, \n",
    "                               n_jobs = -1)\n",
    "    GridS.fit(X, y)\n",
    "    return GridS , GridS.best_estimator_['Clf']\n",
    "    \n",
    "\n",
    "def Bankruptcy_Pipe(df):\n",
    "    \n",
    "    return "
   ]
  },
  {
   "cell_type": "code",
   "execution_count": 4,
   "id": "olive-gamma",
   "metadata": {},
   "outputs": [
    {
     "name": "stdout",
     "output_type": "stream",
     "text": [
      "[10:09:03] WARNING: C:/Users/Administrator/workspace/xgboost-win64_release_1.3.0/src/learner.cc:541: \n",
      "Parameters: { scale_pos_weight  } might not be used.\n",
      "\n",
      "  This may not be accurate due to some parameters are only used in language bindings but\n",
      "  passed down to XGBoost core.  Or some parameters are not used but slip through this\n",
      "  verification. Please open an issue if you find above cases.\n",
      "\n",
      "\n",
      "[10:09:03] WARNING: C:/Users/Administrator/workspace/xgboost-win64_release_1.3.0/src/learner.cc:1061: Starting in XGBoost 1.3.0, the default evaluation metric used with the objective 'binary:logistic' was changed from 'error' to 'logloss'. Explicitly set eval_metric if you'd like to restore the old behavior.\n"
     ]
    }
   ],
   "source": [
    "import time\n",
    "import warnings\n",
    "warnings.filterwarnings('ignore')\n",
    "\n",
    "t0 = time.time()\n",
    "df = data_cleaning(df)\n",
    "train , holdout = data_preprocessing(df)\n",
    "train = balanced_sample_traning(train)\n",
    "GridS , bestclf = Model_Pipeline(df = train)\n",
    "\n",
    "t1 = time.time()\n",
    "\n",
    "exec_time = t1 - t0"
   ]
  },
  {
   "cell_type": "code",
   "execution_count": 5,
   "id": "alpha-blade",
   "metadata": {},
   "outputs": [
    {
     "name": "stdout",
     "output_type": "stream",
     "text": [
      "Exec_time: Minutes 1.1943489948908488\n"
     ]
    },
    {
     "data": {
      "text/html": [
       "<div>\n",
       "<style scoped>\n",
       "    .dataframe tbody tr th:only-of-type {\n",
       "        vertical-align: middle;\n",
       "    }\n",
       "\n",
       "    .dataframe tbody tr th {\n",
       "        vertical-align: top;\n",
       "    }\n",
       "\n",
       "    .dataframe thead th {\n",
       "        text-align: right;\n",
       "    }\n",
       "</style>\n",
       "<table border=\"1\" class=\"dataframe\">\n",
       "  <thead>\n",
       "    <tr style=\"text-align: right;\">\n",
       "      <th></th>\n",
       "      <th>mean_test_score</th>\n",
       "      <th>std_test_score</th>\n",
       "    </tr>\n",
       "  </thead>\n",
       "  <tbody>\n",
       "    <tr>\n",
       "      <th>11</th>\n",
       "      <td>0.847623</td>\n",
       "      <td>0.009287</td>\n",
       "    </tr>\n",
       "    <tr>\n",
       "      <th>27</th>\n",
       "      <td>0.844955</td>\n",
       "      <td>0.018646</td>\n",
       "    </tr>\n",
       "    <tr>\n",
       "      <th>21</th>\n",
       "      <td>0.842883</td>\n",
       "      <td>0.009864</td>\n",
       "    </tr>\n",
       "    <tr>\n",
       "      <th>39</th>\n",
       "      <td>0.842081</td>\n",
       "      <td>0.008341</td>\n",
       "    </tr>\n",
       "    <tr>\n",
       "      <th>35</th>\n",
       "      <td>0.841794</td>\n",
       "      <td>0.004010</td>\n",
       "    </tr>\n",
       "  </tbody>\n",
       "</table>\n",
       "</div>"
      ],
      "text/plain": [
       "    mean_test_score  std_test_score\n",
       "11         0.847623        0.009287\n",
       "27         0.844955        0.018646\n",
       "21         0.842883        0.009864\n",
       "39         0.842081        0.008341\n",
       "35         0.841794        0.004010"
      ]
     },
     "execution_count": 5,
     "metadata": {},
     "output_type": "execute_result"
    }
   ],
   "source": [
    "print('Exec_time: Minutes',exec_time/60)\n",
    "results = pd.DataFrame(GridS.cv_results_).sort_values('rank_test_score',ascending = True)[['mean_test_score','std_test_score']]\n",
    "results.head()"
   ]
  },
  {
   "cell_type": "code",
   "execution_count": 6,
   "id": "comprehensive-southeast",
   "metadata": {},
   "outputs": [
    {
     "data": {
      "text/plain": [
       "Attr35    0.156006\n",
       "Attr39    0.063748\n",
       "Attr26    0.049483\n",
       "Attr46    0.035538\n",
       "Attr13    0.035455\n",
       "Attr27    0.032512\n",
       "Attr43    0.027319\n",
       "Attr12    0.025552\n",
       "Attr5     0.025079\n",
       "Attr62    0.024590\n",
       "dtype: float32"
      ]
     },
     "execution_count": 6,
     "metadata": {},
     "output_type": "execute_result"
    }
   ],
   "source": [
    "predictors = train.drop('class',1).columns\n",
    "feature_importances = pd.Series(data  = GridS.best_estimator_['Clf'].feature_importances_ , index = predictors)\n",
    "feature_importances.sort_values(ascending = False)[:10]"
   ]
  },
  {
   "cell_type": "code",
   "execution_count": 7,
   "id": "enabling-lighting",
   "metadata": {},
   "outputs": [
    {
     "data": {
      "text/plain": [
       "XGBClassifier(base_score=0.5, booster='gbtree', colsample_bylevel=1,\n",
       "              colsample_bynode=1, colsample_bytree=0.7, gamma=0.2, gpu_id=-1,\n",
       "              importance_type='gain', interaction_constraints='',\n",
       "              learning_rate=0.3, max_delta_step=0, max_depth=5,\n",
       "              min_child_weight=1, missing=nan, monotone_constraints='()',\n",
       "              n_estimators=1000, n_jobs=8, num_parallel_tree=1, random_state=0,\n",
       "              reg_alpha=0, reg_lambda=1, scale_pos_weight=1,\n",
       "              scale_pos_weight =3, subsample=1, tree_method='exact',\n",
       "              validate_parameters=1, verbosity=None)"
      ]
     },
     "execution_count": 7,
     "metadata": {},
     "output_type": "execute_result"
    }
   ],
   "source": [
    "GridS.best_estimator_['Clf']"
   ]
  },
  {
   "cell_type": "code",
   "execution_count": 8,
   "id": "previous-calendar",
   "metadata": {},
   "outputs": [
    {
     "data": {
      "text/plain": [
       "0.7042253521126761"
      ]
     },
     "execution_count": 8,
     "metadata": {},
     "output_type": "execute_result"
    }
   ],
   "source": [
    "# Unless the confidence of solid business is over 60, declare risk \n",
    "predictions  = (bestclf.predict_proba(holdout.drop('class',1).values)[:,1] >= 0.45).astype(int)\n",
    "\n",
    "f1_score(holdout['class'] , predictions)"
   ]
  },
  {
   "cell_type": "code",
   "execution_count": 9,
   "id": "seeing-frost",
   "metadata": {},
   "outputs": [
    {
     "data": {
      "text/plain": [
       "0    381\n",
       "1    381\n",
       "Name: class, dtype: int64"
      ]
     },
     "execution_count": 9,
     "metadata": {},
     "output_type": "execute_result"
    }
   ],
   "source": [
    "train['class'].value_counts()"
   ]
  },
  {
   "cell_type": "code",
   "execution_count": 10,
   "id": "clinical-trial",
   "metadata": {},
   "outputs": [
    {
     "name": "stdout",
     "output_type": "stream",
     "text": [
      "              precision    recall  f1-score   support\n",
      "\n",
      "           0       0.91      0.71      0.80        59\n",
      "           1       0.60      0.86      0.70        29\n",
      "\n",
      "    accuracy                           0.76        88\n",
      "   macro avg       0.75      0.79      0.75        88\n",
      "weighted avg       0.81      0.76      0.77        88\n",
      "\n"
     ]
    },
    {
     "data": {
      "image/png": "[encoded data removed]",
      "text/plain": [
       "<Figure size 432x288 with 2 Axes>"
      ]
     },
     "metadata": {
      "needs_background": "light"
     },
     "output_type": "display_data"
    }
   ],
   "source": [
    "sns.heatmap(confusion_matrix( holdout['class'], predictions) , cmap  = 'Blues', annot = True )\n",
    "plt.title('Confusion Matrix')\n",
    "plt.ylabel('True label')\n",
    "plt.xlabel('Predicted label');\n",
    "print(classification_report( holdout['class'], predictions))"
   ]
  },
  {
   "cell_type": "markdown",
   "id": "stainless-alias",
   "metadata": {},
   "source": [
    "# Unsupervised Bankruptcy Prediction with AutoEncoders"
   ]
  },
  {
   "cell_type": "code",
   "execution_count": 11,
   "id": "assisted-billy",
   "metadata": {},
   "outputs": [
    {
     "data": {
      "text/plain": [
       "(0    5241\n",
       " 1     331\n",
       " Name: class, dtype: int64,\n",
       " 0    200\n",
       " 1     50\n",
       " Name: class, dtype: int64)"
      ]
     },
     "execution_count": 11,
     "metadata": {},
     "output_type": "execute_result"
    }
   ],
   "source": [
    "df = data_cleaning(df)\n",
    "\n",
    "\n",
    "def data_preprocessing_autoencoder(df , holdoutratio = 0.01):\n",
    "    # Create Train fold  and hide Test fold\n",
    "    test_sample_class = int(df.shape[0] * holdoutratio)\n",
    "\n",
    "    df_dropNA = df.dropna() #Drop Nan\n",
    "    Test_Operating  = df_dropNA[df_dropNA['class'] == 0].sample(n=200,replace=False)\n",
    "    Test_Default    = df_dropNA[df_dropNA['class'] == 1].sample(n=50)\n",
    "\n",
    "\n",
    "    Test = pd.concat([Test_Default,Test_Operating] , 0) # Create the Hide pure Test Data\n",
    "\n",
    "    Train = df.loc[~df.index.isin(Test.index), :] # Remove the index of Test and create the Train Block from original df\n",
    "\n",
    "    Test.sample(frac=1) # Shuffle randomly the Test Block\n",
    "\n",
    "    return Train , Test\n",
    "\n",
    "train , holdout  = data_preprocessing(df)\n",
    "\n",
    "train , validate = data_preprocessing_autoencoder(train)\n",
    "\n",
    "train['class'].value_counts() ,validate['class'].value_counts()"
   ]
  },
  {
   "cell_type": "code",
   "execution_count": 93,
   "id": "immune-maine",
   "metadata": {},
   "outputs": [
    {
     "name": "stdout",
     "output_type": "stream",
     "text": [
      "Model: \"sequential_5\"\n",
      "_________________________________________________________________\n",
      "Layer (type)                 Output Shape              Param #   \n",
      "=================================================================\n",
      "dense_447 (Dense)            (None, 63)                4032      \n",
      "_________________________________________________________________\n",
      "dense_448 (Dense)            (None, 62)                3968      \n",
      "_________________________________________________________________\n",
      "dense_449 (Dense)            (None, 61)                3843      \n",
      "_________________________________________________________________\n",
      "dense_450 (Dense)            (None, 60)                3720      \n",
      "_________________________________________________________________\n",
      "dense_451 (Dense)            (None, 59)                3599      \n",
      "_________________________________________________________________\n",
      "dense_452 (Dense)            (None, 58)                3480      \n",
      "_________________________________________________________________\n",
      "dense_453 (Dense)            (None, 57)                3363      \n",
      "_________________________________________________________________\n",
      "dense_454 (Dense)            (None, 56)                3248      \n",
      "_________________________________________________________________\n",
      "dense_455 (Dense)            (None, 55)                3135      \n",
      "_________________________________________________________________\n",
      "dense_456 (Dense)            (None, 54)                3024      \n",
      "_________________________________________________________________\n",
      "dense_457 (Dense)            (None, 53)                2915      \n",
      "_________________________________________________________________\n",
      "dense_458 (Dense)            (None, 52)                2808      \n",
      "_________________________________________________________________\n",
      "dense_459 (Dense)            (None, 51)                2703      \n",
      "_________________________________________________________________\n",
      "dense_460 (Dense)            (None, 50)                2600      \n",
      "_________________________________________________________________\n",
      "dense_461 (Dense)            (None, 49)                2499      \n",
      "_________________________________________________________________\n",
      "dense_462 (Dense)            (None, 48)                2400      \n",
      "_________________________________________________________________\n",
      "dense_463 (Dense)            (None, 47)                2303      \n",
      "_________________________________________________________________\n",
      "dense_464 (Dense)            (None, 46)                2208      \n",
      "_________________________________________________________________\n",
      "dense_465 (Dense)            (None, 45)                2115      \n",
      "_________________________________________________________________\n",
      "dense_466 (Dense)            (None, 44)                2024      \n",
      "_________________________________________________________________\n",
      "dense_467 (Dense)            (None, 43)                1935      \n",
      "_________________________________________________________________\n",
      "dense_468 (Dense)            (None, 42)                1848      \n",
      "_________________________________________________________________\n",
      "dense_469 (Dense)            (None, 41)                1763      \n",
      "_________________________________________________________________\n",
      "dense_470 (Dense)            (None, 40)                1680      \n",
      "_________________________________________________________________\n",
      "dense_471 (Dense)            (None, 39)                1599      \n",
      "_________________________________________________________________\n",
      "dense_472 (Dense)            (None, 38)                1520      \n",
      "_________________________________________________________________\n",
      "dense_473 (Dense)            (None, 37)                1443      \n",
      "_________________________________________________________________\n",
      "dense_474 (Dense)            (None, 36)                1368      \n",
      "_________________________________________________________________\n",
      "dense_475 (Dense)            (None, 35)                1295      \n",
      "_________________________________________________________________\n",
      "dense_476 (Dense)            (None, 34)                1224      \n",
      "_________________________________________________________________\n",
      "dense_477 (Dense)            (None, 33)                1155      \n",
      "_________________________________________________________________\n",
      "dense_478 (Dense)            (None, 32)                1088      \n",
      "_________________________________________________________________\n",
      "dense_479 (Dense)            (None, 31)                1023      \n",
      "_________________________________________________________________\n",
      "dense_480 (Dense)            (None, 30)                960       \n",
      "_________________________________________________________________\n",
      "dense_481 (Dense)            (None, 29)                899       \n",
      "_________________________________________________________________\n",
      "dense_482 (Dense)            (None, 28)                840       \n",
      "_________________________________________________________________\n",
      "dense_483 (Dense)            (None, 27)                783       \n",
      "_________________________________________________________________\n",
      "dense_484 (Dense)            (None, 26)                728       \n",
      "_________________________________________________________________\n",
      "dense_485 (Dense)            (None, 25)                675       \n",
      "_________________________________________________________________\n",
      "dense_486 (Dense)            (None, 24)                624       \n",
      "_________________________________________________________________\n",
      "dense_487 (Dense)            (None, 23)                575       \n",
      "_________________________________________________________________\n",
      "dense_488 (Dense)            (None, 22)                528       \n",
      "_________________________________________________________________\n",
      "dense_489 (Dense)            (None, 21)                483       \n",
      "_________________________________________________________________\n",
      "dense_490 (Dense)            (None, 20)                440       \n",
      "_________________________________________________________________\n",
      "dense_491 (Dense)            (None, 19)                399       \n",
      "_________________________________________________________________\n",
      "dense_492 (Dense)            (None, 18)                360       \n",
      "_________________________________________________________________\n",
      "dense_493 (Dense)            (None, 17)                323       \n",
      "_________________________________________________________________\n",
      "dense_494 (Dense)            (None, 16)                288       \n",
      "_________________________________________________________________\n",
      "dense_495 (Dense)            (None, 15)                255       \n",
      "_________________________________________________________________\n",
      "dense_496 (Dense)            (None, 16)                256       \n",
      "_________________________________________________________________\n",
      "dense_497 (Dense)            (None, 17)                289       \n",
      "_________________________________________________________________\n",
      "dense_498 (Dense)            (None, 18)                324       \n",
      "_________________________________________________________________\n",
      "dense_499 (Dense)            (None, 19)                361       \n",
      "_________________________________________________________________\n",
      "dense_500 (Dense)            (None, 20)                400       \n",
      "_________________________________________________________________\n",
      "dense_501 (Dense)            (None, 21)                441       \n",
      "_________________________________________________________________\n",
      "dense_502 (Dense)            (None, 22)                484       \n",
      "_________________________________________________________________\n",
      "dense_503 (Dense)            (None, 23)                529       \n",
      "_________________________________________________________________\n",
      "dense_504 (Dense)            (None, 24)                576       \n",
      "_________________________________________________________________\n",
      "dense_505 (Dense)            (None, 25)                625       \n",
      "_________________________________________________________________\n",
      "dense_506 (Dense)            (None, 26)                676       \n",
      "_________________________________________________________________\n",
      "dense_507 (Dense)            (None, 27)                729       \n",
      "_________________________________________________________________\n",
      "dense_508 (Dense)            (None, 28)                784       \n",
      "_________________________________________________________________\n",
      "dense_509 (Dense)            (None, 29)                841       \n",
      "_________________________________________________________________\n",
      "dense_510 (Dense)            (None, 30)                900       \n",
      "_________________________________________________________________\n",
      "dense_511 (Dense)            (None, 31)                961       \n",
      "_________________________________________________________________\n",
      "dense_512 (Dense)            (None, 32)                1024      \n",
      "_________________________________________________________________\n",
      "dense_513 (Dense)            (None, 33)                1089      \n",
      "_________________________________________________________________\n",
      "dense_514 (Dense)            (None, 34)                1156      \n",
      "_________________________________________________________________\n",
      "dense_515 (Dense)            (None, 35)                1225      \n",
      "_________________________________________________________________\n",
      "dense_516 (Dense)            (None, 36)                1296      \n",
      "_________________________________________________________________\n",
      "dense_517 (Dense)            (None, 37)                1369      \n",
      "_________________________________________________________________\n",
      "dense_518 (Dense)            (None, 38)                1444      \n",
      "_________________________________________________________________\n",
      "dense_519 (Dense)            (None, 39)                1521      \n",
      "_________________________________________________________________\n",
      "dense_520 (Dense)            (None, 40)                1600      \n",
      "_________________________________________________________________\n",
      "dense_521 (Dense)            (None, 41)                1681      \n",
      "_________________________________________________________________\n",
      "dense_522 (Dense)            (None, 42)                1764      \n",
      "_________________________________________________________________\n",
      "dense_523 (Dense)            (None, 43)                1849      \n",
      "_________________________________________________________________\n",
      "dense_524 (Dense)            (None, 44)                1936      \n",
      "_________________________________________________________________\n",
      "dense_525 (Dense)            (None, 45)                2025      \n",
      "_________________________________________________________________\n",
      "dense_526 (Dense)            (None, 46)                2116      \n",
      "_________________________________________________________________\n",
      "dense_527 (Dense)            (None, 47)                2209      \n",
      "_________________________________________________________________\n",
      "dense_528 (Dense)            (None, 48)                2304      \n",
      "_________________________________________________________________\n",
      "dense_529 (Dense)            (None, 49)                2401      \n",
      "_________________________________________________________________\n",
      "dense_530 (Dense)            (None, 50)                2500      \n",
      "_________________________________________________________________\n",
      "dense_531 (Dense)            (None, 51)                2601      \n",
      "_________________________________________________________________\n",
      "dense_532 (Dense)            (None, 52)                2704      \n",
      "_________________________________________________________________\n",
      "dense_533 (Dense)            (None, 53)                2809      \n",
      "_________________________________________________________________\n",
      "dense_534 (Dense)            (None, 54)                2916      \n",
      "_________________________________________________________________\n",
      "dense_535 (Dense)            (None, 55)                3025      \n",
      "_________________________________________________________________\n",
      "dense_536 (Dense)            (None, 56)                3136      \n",
      "_________________________________________________________________\n",
      "dense_537 (Dense)            (None, 57)                3249      \n",
      "_________________________________________________________________\n",
      "dense_538 (Dense)            (None, 58)                3364      \n",
      "_________________________________________________________________\n",
      "dense_539 (Dense)            (None, 59)                3481      \n",
      "_________________________________________________________________\n",
      "dense_540 (Dense)            (None, 60)                3600      \n",
      "_________________________________________________________________\n",
      "dense_541 (Dense)            (None, 61)                3721      \n",
      "_________________________________________________________________\n",
      "dense_542 (Dense)            (None, 62)                3844      \n",
      "_________________________________________________________________\n",
      "dense_543 (Dense)            (None, 63)                3969      \n",
      "=================================================================\n",
      "Total params: 172,192\n",
      "Trainable params: 172,192\n",
      "Non-trainable params: 0\n",
      "_________________________________________________________________\n"
     ]
    }
   ],
   "source": [
    "import tensorflow as tf\n",
    "from keras.layers import Input, Dense\n",
    "from keras.models import Model\n",
    "from sklearn.preprocessing import Normalizer, MinMaxScaler , StandardScaler\n",
    "from sklearn.pipeline import Pipeline\n",
    "\n",
    "# configure our pipeline\n",
    "pipeline = Pipeline([\n",
    "                     ('Imputation',KNNImputer()),\n",
    "                     ('Standardize', StandardScaler()),\n",
    "                     ('Scale', MinMaxScaler())\n",
    "])\n",
    "\n",
    "\n",
    "X_train    = train.drop('class',1)\n",
    "X_validate = validate.drop('class',1)\n",
    "\n",
    "# transform the training and validation data with these parameters\n",
    "X_train_transformed = pipeline.fit_transform(X_train)\n",
    "X_validate_transformed = pipeline.fit_transform(X_validate)\n",
    "\n",
    "\n",
    "# data dimensions // hyperparameters \n",
    "input_dim = X_train_transformed.shape[1]\n",
    "BATCH_SIZE = 2**5\n",
    "EPOCHS = 200\n",
    "\n",
    "\n",
    "def layer(n):\n",
    "    layer= tf.keras.layers.Dense(n, activation='elu')\n",
    "    return layer\n",
    "\n",
    "latent = int(input_dim/4)\n",
    "# https://keras.io/layers/core/\n",
    "autoencoder = tf.keras.models.Sequential(\n",
    "    \n",
    "    # deconstruct / encode\n",
    "    [tf.keras.layers.Dense(input_dim, activation='elu', input_shape=(input_dim, ))]+ \n",
    "    [ layer(n)  for n in range(input_dim-1,latent,-1)] + \n",
    "    [layer(n)  for n in range(latent, input_dim+1,1)]\n",
    ")\n",
    "\n",
    "# https://keras.io/api/models/model_training_apis/\n",
    "autoencoder.compile(optimizer=\"adam\", \n",
    "                    loss=\"mse\",\n",
    "                    metrics=[\"mse\"])\n",
    "\n",
    "# print an overview of our model\n",
    "autoencoder.summary();\n",
    "\n",
    "# Train \n",
    "history = autoencoder.fit(\n",
    "    X_train_transformed, X_train_transformed,\n",
    "    shuffle=True,\n",
    "    verbose = False,\n",
    "    epochs=EPOCHS,\n",
    "    batch_size=BATCH_SIZE,\n",
    "    validation_data=(X_validate_transformed, X_validate_transformed)\n",
    ");"
   ]
  },
  {
   "cell_type": "code",
   "execution_count": 94,
   "id": "recorded-thriller",
   "metadata": {},
   "outputs": [
    {
     "name": "stdout",
     "output_type": "stream",
     "text": [
      "WARNING:tensorflow:5 out of the last 13 calls to <function Model.make_predict_function.<locals>.predict_function at 0x000002A8A7E991F0> triggered tf.function retracing. Tracing is expensive and the excessive number of tracings could be due to (1) creating @tf.function repeatedly in a loop, (2) passing tensors with different shapes, (3) passing Python objects instead of tensors. For (1), please define your @tf.function outside of the loop. For (2), @tf.function has experimental_relax_shapes=True option that relaxes argument shapes that can avoid unnecessary retracing. For (3), please refer to https://www.tensorflow.org/guide/function#controlling_retracing and https://www.tensorflow.org/api_docs/python/tf/function for  more details.\n"
     ]
    },
    {
     "data": {
      "image/png": "[encoded data removed]",
      "text/plain": [
       "<Figure size 432x432 with 1 Axes>"
      ]
     },
     "metadata": {
      "needs_background": "light"
     },
     "output_type": "display_data"
    }
   ],
   "source": [
    "X_test    = holdout.drop('class',1)\n",
    "y_test    = holdout['class']\n",
    "\n",
    "X_test_transformed = pipeline.fit_transform(X_test)\n",
    "reconstructions = autoencoder.predict(X_test_transformed)\n",
    "\n",
    "mse = np.mean(np.power(X_test_transformed - reconstructions, 2), axis=1)\n",
    "\n",
    "clean  = mse[y_test==0]\n",
    "risky  = mse[y_test==1]\n",
    "\n",
    "fig, ax = plt.subplots(figsize=(6,6))\n",
    "\n",
    "ax.hist(clean, bins=10, density=True, label=\"clean\", alpha=.6, color=\"green\")\n",
    "ax.hist(risky, bins=10, density=True, label=\"risky\", alpha=.6, color=\"red\")\n",
    "\n",
    "plt.title(\"(Normalized) Distribution of the Reconstruction Loss\")\n",
    "plt.legend()\n",
    "plt.show()"
   ]
  },
  {
   "cell_type": "code",
   "execution_count": 112,
   "id": "subtle-brunei",
   "metadata": {},
   "outputs": [
    {
     "data": {
      "image/png": "[encoded data removed]",
      "text/plain": [
       "<Figure size 432x288 with 1 Axes>"
      ]
     },
     "metadata": {
      "needs_background": "light"
     },
     "output_type": "display_data"
    }
   ],
   "source": [
    "plt.grid(True)\n",
    "plt.scatter(x = range(len(clean)) ,  y = clean , color = 'green', alpha = 0.7  ,edgecolors = 'k' , label  = 'Clean' )\n",
    "plt.scatter(x = range(len(risky)) ,  y = risky , color = 'darkred', alpha = 0.7,edgecolors = 'k' , label  = 'Risky' )\n",
    "plt.legend()\n",
    "plt.title('Risk Factor in terms of reconstruction error')\n",
    "\n",
    "risk_cutoff = np.percentile(mse,90)\n",
    "plt.axhline(y=risk_cutoff, color='k', linestyle='--');"
   ]
  },
  {
   "cell_type": "code",
   "execution_count": 113,
   "id": "minute-reader",
   "metadata": {},
   "outputs": [
    {
     "data": {
      "text/plain": [
       "0.085"
      ]
     },
     "execution_count": 113,
     "metadata": {},
     "output_type": "execute_result"
    }
   ],
   "source": [
    "false_positive_rate = (clean[:] > risk_cutoff).astype(int).sum() / len(clean)\n",
    "round(false_positive_rate,3)"
   ]
  },
  {
   "cell_type": "code",
   "execution_count": 114,
   "id": "attended-adelaide",
   "metadata": {},
   "outputs": [
    {
     "data": {
      "text/plain": [
       "0.862"
      ]
     },
     "execution_count": 114,
     "metadata": {},
     "output_type": "execute_result"
    }
   ],
   "source": [
    "false_negative_rate = (risky[:] < risk_cutoff).astype(int).sum() / len(risky)\n",
    "round(false_negative_rate,3)"
   ]
  },
  {
   "cell_type": "code",
   "execution_count": 115,
   "id": "scientific-biodiversity",
   "metadata": {},
   "outputs": [
    {
     "data": {
      "text/plain": [
       "0.915"
      ]
     },
     "execution_count": 115,
     "metadata": {},
     "output_type": "execute_result"
    }
   ],
   "source": [
    "true_negative_rate = (clean[:] < risk_cutoff).astype(int).sum() / len(clean)\n",
    "round(true_negative_rate,3)"
   ]
  },
  {
   "cell_type": "code",
   "execution_count": 116,
   "id": "random-consensus",
   "metadata": {},
   "outputs": [
    {
     "data": {
      "text/plain": [
       "0.138"
      ]
     },
     "execution_count": 116,
     "metadata": {},
     "output_type": "execute_result"
    }
   ],
   "source": [
    "true_positive_rate = (risky[:] > risk_cutoff).astype(int).sum() / len(risky)\n",
    "round(true_positive_rate,3)"
   ]
  },
  {
   "cell_type": "code",
   "execution_count": 117,
   "id": "wanted-majority",
   "metadata": {},
   "outputs": [
    {
     "data": {
      "text/plain": [
       "(88, 59, 29)"
      ]
     },
     "execution_count": 117,
     "metadata": {},
     "output_type": "execute_result"
    }
   ],
   "source": [
    "len(y_test) , len(clean) , len(risky)"
   ]
  },
  {
   "cell_type": "code",
   "execution_count": 118,
   "id": "ordered-final",
   "metadata": {},
   "outputs": [],
   "source": [
    "true_positive    =   (risky[:] > risk_cutoff).astype(int).sum()\n",
    "true_negative    =   (clean[:] < risk_cutoff).astype(int).sum()\n",
    "false_positive   =   (clean[:] > risk_cutoff).astype(int).sum()\n",
    "false_negative   =   (risky[:] < risk_cutoff).astype(int).sum()\n",
    "\n",
    "precision  =  true_positive / ( true_positive + false_positive)\n",
    "recall     =  true_positive / (true_positive + false_negative )\n",
    "\n",
    "f1         =  2 * (precision*recall)/(precision+recall)"
   ]
  },
  {
   "cell_type": "code",
   "execution_count": 119,
   "id": "dated-honor",
   "metadata": {},
   "outputs": [
    {
     "data": {
      "text/plain": [
       "0.13793103448275862"
      ]
     },
     "execution_count": 119,
     "metadata": {},
     "output_type": "execute_result"
    }
   ],
   "source": [
    "recall"
   ]
  },
  {
   "cell_type": "code",
   "execution_count": 120,
   "id": "imperial-boring",
   "metadata": {},
   "outputs": [
    {
     "data": {
      "text/plain": [
       "4.0"
      ]
     },
     "execution_count": 120,
     "metadata": {},
     "output_type": "execute_result"
    }
   ],
   "source": [
    "true_positive_rate*29"
   ]
  },
  {
   "cell_type": "code",
   "execution_count": null,
   "id": "established-fashion",
   "metadata": {},
   "outputs": [],
   "source": [
    "   "
   ]
  },
  {
   "cell_type": "code",
   "execution_count": null,
   "id": "accepted-remove",
   "metadata": {},
   "outputs": [],
   "source": []
  },
  {
   "cell_type": "code",
   "execution_count": null,
   "id": "welcome-revolution",
   "metadata": {},
   "outputs": [],
   "source": []
  },
  {
   "cell_type": "code",
   "execution_count": null,
   "id": "informative-elements",
   "metadata": {},
   "outputs": [],
   "source": []
  }
 ],
 "metadata": {
  "kernelspec": {
   "display_name": "Python 3",
   "language": "python",
   "name": "python3"
  },
  "language_info": {
   "codemirror_mode": {
    "name": "ipython",
    "version": 3
   },
   "file_extension": ".py",
   "mimetype": "text/x-python",
   "name": "python",
   "nbconvert_exporter": "python",
   "pygments_lexer": "ipython3",
   "version": "3.8.5"
  }
 },
 "nbformat": 4,
 "nbformat_minor": 5
}
